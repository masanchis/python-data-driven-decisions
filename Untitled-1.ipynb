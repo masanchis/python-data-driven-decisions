{
 "cells": [
  {
   "cell_type": "code",
   "execution_count": 216,
   "metadata": {},
   "outputs": [
    {
     "name": "stdout",
     "output_type": "stream",
     "text": [
      "Requirement already satisfied: pandas in c:\\users\\msanchis\\appdata\\local\\programs\\python\\python310\\lib\\site-packages (1.4.2)\n",
      "Requirement already satisfied: pytz>=2020.1 in c:\\users\\msanchis\\appdata\\local\\programs\\python\\python310\\lib\\site-packages (from pandas) (2022.1)\n",
      "Requirement already satisfied: python-dateutil>=2.8.1 in c:\\users\\msanchis\\appdata\\local\\programs\\python\\python310\\lib\\site-packages (from pandas) (2.8.2)\n",
      "Requirement already satisfied: numpy>=1.21.0 in c:\\users\\msanchis\\appdata\\local\\programs\\python\\python310\\lib\\site-packages (from pandas) (1.22.4)\n",
      "Requirement already satisfied: six>=1.5 in c:\\users\\msanchis\\appdata\\local\\programs\\python\\python310\\lib\\site-packages (from python-dateutil>=2.8.1->pandas) (1.16.0)\n",
      "Note: you may need to restart the kernel to use updated packages.\n"
     ]
    },
    {
     "name": "stderr",
     "output_type": "stream",
     "text": [
      "WARNING: You are using pip version 22.0.4; however, version 22.1.2 is available.\n",
      "You should consider upgrading via the 'c:\\Users\\msanchis\\AppData\\Local\\Programs\\Python\\Python310\\python.exe -m pip install --upgrade pip' command.\n"
     ]
    }
   ],
   "source": [
    "pip install pandas"
   ]
  },
  {
   "cell_type": "code",
   "execution_count": 217,
   "metadata": {},
   "outputs": [],
   "source": [
    "import pandas as pd\n",
    "import numpy as np"
   ]
  },
  {
   "cell_type": "code",
   "execution_count": 218,
   "metadata": {},
   "outputs": [
    {
     "data": {
      "text/plain": [
       "'c:\\\\Users\\\\msanchis\\\\Documents'"
      ]
     },
     "execution_count": 218,
     "metadata": {},
     "output_type": "execute_result"
    }
   ],
   "source": [
    "import os\n",
    "os.getcwd()"
   ]
  },
  {
   "cell_type": "code",
   "execution_count": 219,
   "metadata": {},
   "outputs": [],
   "source": [
    "df=pd.read_csv('c:\\\\Users\\\\msanchis\\\\Documents\\\\Microsoft VS Code\\\\maddison-data-gdp-per-capita-in-2011us.csv')\n"
   ]
  },
  {
   "cell_type": "code",
   "execution_count": 220,
   "metadata": {},
   "outputs": [
    {
     "name": "stdout",
     "output_type": "stream",
     "text": [
      "            Entity Code  Year  GDP per capita 417485-annotations\n",
      "0      Afghanistan  AFG  1950     1156.000000                NaN\n",
      "1      Afghanistan  AFG  1951     1170.000000                NaN\n",
      "2      Afghanistan  AFG  1952     1189.000000                NaN\n",
      "3      Afghanistan  AFG  1953     1240.000000                NaN\n",
      "4      Afghanistan  AFG  1954     1245.000000                NaN\n",
      "...            ...  ...   ...             ...                ...\n",
      "19871     Zimbabwe  ZWE  2014     1594.000000                NaN\n",
      "19872     Zimbabwe  ZWE  2015     1560.000000                NaN\n",
      "19873     Zimbabwe  ZWE  2016     1534.000000                NaN\n",
      "19874     Zimbabwe  ZWE  2017     1582.366211                NaN\n",
      "19875     Zimbabwe  ZWE  2018     1611.405151                NaN\n",
      "\n",
      "[19876 rows x 5 columns]\n"
     ]
    }
   ],
   "source": [
    "print(df)\n"
   ]
  },
  {
   "cell_type": "code",
   "execution_count": 221,
   "metadata": {},
   "outputs": [],
   "source": [
    "df.drop('417485-annotations',inplace=True, axis=1) "
   ]
  },
  {
   "cell_type": "code",
   "execution_count": 222,
   "metadata": {},
   "outputs": [
    {
     "name": "stdout",
     "output_type": "stream",
     "text": [
      "\n",
      "CSV df after deleting the column '417485-annotations':\n",
      "\n",
      "            Entity Code  Year  GDP per capita\n",
      "0      Afghanistan  AFG  1950     1156.000000\n",
      "1      Afghanistan  AFG  1951     1170.000000\n",
      "2      Afghanistan  AFG  1952     1189.000000\n",
      "3      Afghanistan  AFG  1953     1240.000000\n",
      "4      Afghanistan  AFG  1954     1245.000000\n",
      "...            ...  ...   ...             ...\n",
      "19871     Zimbabwe  ZWE  2014     1594.000000\n",
      "19872     Zimbabwe  ZWE  2015     1560.000000\n",
      "19873     Zimbabwe  ZWE  2016     1534.000000\n",
      "19874     Zimbabwe  ZWE  2017     1582.366211\n",
      "19875     Zimbabwe  ZWE  2018     1611.405151\n",
      "\n",
      "[19876 rows x 4 columns]\n"
     ]
    }
   ],
   "source": [
    "print(\"\\nCSV df after deleting the column '417485-annotations':\\n\") \n",
    "print(df)"
   ]
  },
  {
   "cell_type": "code",
   "execution_count": 223,
   "metadata": {},
   "outputs": [
    {
     "name": "stdout",
     "output_type": "stream",
     "text": [
      "            Entity Code  Year  GDP per capita\n",
      "38     Afghanistan  AFG  1988     1101.000000\n",
      "39     Afghanistan  AFG  1989      999.000000\n",
      "40     Afghanistan  AFG  1990      963.000000\n",
      "41     Afghanistan  AFG  1991      881.170410\n",
      "42     Afghanistan  AFG  1992      843.875305\n",
      "...            ...  ...   ...             ...\n",
      "19871     Zimbabwe  ZWE  2014     1594.000000\n",
      "19872     Zimbabwe  ZWE  2015     1560.000000\n",
      "19873     Zimbabwe  ZWE  2016     1534.000000\n",
      "19874     Zimbabwe  ZWE  2017     1582.366211\n",
      "19875     Zimbabwe  ZWE  2018     1611.405151\n",
      "\n",
      "[5289 rows x 4 columns]\n"
     ]
    }
   ],
   "source": [
    "df_in_years= df.loc[df[\"Year\"]>=1988]\n",
    "print(df_in_years)\n"
   ]
  },
  {
   "cell_type": "code",
   "execution_count": 224,
   "metadata": {},
   "outputs": [
    {
     "name": "stdout",
     "output_type": "stream",
     "text": [
      "            Entity Code  Year  GDP per capita    diffGDP\n",
      "0      Afghanistan  AFG  1950     1156.000000 -14.000000\n",
      "1      Afghanistan  AFG  1951     1170.000000 -19.000000\n",
      "2      Afghanistan  AFG  1952     1189.000000 -51.000000\n",
      "3      Afghanistan  AFG  1953     1240.000000  -5.000000\n",
      "4      Afghanistan  AFG  1954     1245.000000  -1.000000\n",
      "...            ...  ...   ...             ...        ...\n",
      "19871     Zimbabwe  ZWE  2014     1594.000000  34.000000\n",
      "19872     Zimbabwe  ZWE  2015     1560.000000  26.000000\n",
      "19873     Zimbabwe  ZWE  2016     1534.000000 -48.366211\n",
      "19874     Zimbabwe  ZWE  2017     1582.366211 -29.038940\n",
      "19875     Zimbabwe  ZWE  2018     1611.405151        NaN\n",
      "\n",
      "[19876 rows x 5 columns]\n"
     ]
    }
   ],
   "source": [
    "\n",
    "df [\"diffGDP\"] = df [\"GDP per capita\"] .diff(-1)\n",
    "print(df)\n",
    "\n"
   ]
  },
  {
   "cell_type": "code",
   "execution_count": 225,
   "metadata": {},
   "outputs": [
    {
     "name": "stdout",
     "output_type": "stream",
     "text": [
      "Code\n",
      "AFG      445.000000\n",
      "AGO      193.000000\n",
      "ALB       26.000000\n",
      "ARE    24031.000000\n",
      "ARG    -8322.000000\n",
      "           ...     \n",
      "VNM    -1466.966797\n",
      "YEM      574.000000\n",
      "ZAF     1899.225708\n",
      "ZMB      -63.000000\n",
      "ZWE     -494.405151\n",
      "Name: diffGDP, Length: 169, dtype: float64\n"
     ]
    }
   ],
   "source": [
    "df2 = df.groupby(by=['Code']) ['diffGDP'].agg('sum')\n",
    "print(df2)"
   ]
  },
  {
   "cell_type": "code",
   "execution_count": 226,
   "metadata": {},
   "outputs": [
    {
     "name": "stdout",
     "output_type": "stream",
     "text": [
      "Code\n",
      "QAT    48092.000000\n",
      "KWT    40090.000000\n",
      "ARE    24031.000000\n",
      "LUX    11862.000000\n",
      "LVA    11422.000000\n",
      "KAZ    11116.000000\n",
      "ARM     8980.000000\n",
      "SVK     7881.000000\n",
      "MDA     7875.000000\n",
      "GEO     7629.000000\n",
      "CZE     7395.000000\n",
      "BLR     7385.000000\n",
      "ISL     7234.000000\n",
      "UZB     7052.000000\n",
      "TKM     6314.000000\n",
      "TJK     5851.000000\n",
      "KGZ     5244.000000\n",
      "TTO     4740.000000\n",
      "RUS     4537.000000\n",
      "AZE     3714.000000\n",
      "MUS     3368.000000\n",
      "NAM     3368.000000\n",
      "LBR     2531.000000\n",
      "BHR     2493.000000\n",
      "DJI     2479.000000\n",
      "HRV     2443.000000\n",
      "CRI     2005.320007\n",
      "PRY     1978.000000\n",
      "GAB     1976.000000\n",
      "ZAF     1899.225708\n",
      "SYC     1730.000000\n",
      "GTM     1508.000000\n",
      "BIH     1405.000000\n",
      "SVN     1219.000000\n",
      "EST     1183.000000\n",
      "DEU     1127.000000\n",
      "MNE     1099.000000\n",
      "NIC     1024.000000\n",
      "MOZ     1003.000000\n",
      "MDG     1000.000000\n",
      "MLT      894.000000\n",
      "HND      825.000000\n",
      "MKD      766.000000\n",
      "SLV      690.000000\n",
      "BGR      583.000000\n",
      "NLD      578.634644\n",
      "YEM      574.000000\n",
      "DOM      548.415039\n",
      "JAM      519.159973\n",
      "CAF      492.000000\n",
      "Name: diffGDP, dtype: float64\n"
     ]
    }
   ],
   "source": [
    "selection=df2.nlargest(50)\n",
    "\n",
    "print(selection)"
   ]
  },
  {
   "cell_type": "code",
   "execution_count": 227,
   "metadata": {},
   "outputs": [],
   "source": [
    "import glob"
   ]
  },
  {
   "cell_type": "code",
   "execution_count": 228,
   "metadata": {},
   "outputs": [
    {
     "data": {
      "text/html": [
       "<div>\n",
       "<style scoped>\n",
       "    .dataframe tbody tr th:only-of-type {\n",
       "        vertical-align: middle;\n",
       "    }\n",
       "\n",
       "    .dataframe tbody tr th {\n",
       "        vertical-align: top;\n",
       "    }\n",
       "\n",
       "    .dataframe thead th {\n",
       "        text-align: right;\n",
       "    }\n",
       "</style>\n",
       "<table border=\"1\" class=\"dataframe\">\n",
       "  <thead>\n",
       "    <tr style=\"text-align: right;\">\n",
       "      <th></th>\n",
       "      <th>Area Code</th>\n",
       "      <th>Area</th>\n",
       "      <th>Item Code</th>\n",
       "      <th>Item</th>\n",
       "      <th>Element Code</th>\n",
       "      <th>Element</th>\n",
       "      <th>Year Code</th>\n",
       "      <th>Year</th>\n",
       "      <th>Unit</th>\n",
       "      <th>Value</th>\n",
       "      <th>Flag</th>\n",
       "      <th>Note</th>\n",
       "    </tr>\n",
       "  </thead>\n",
       "  <tbody>\n",
       "    <tr>\n",
       "      <th>0</th>\n",
       "      <td>4</td>\n",
       "      <td>Algeria</td>\n",
       "      <td>23045</td>\n",
       "      <td>Agriculture research spending</td>\n",
       "      <td>6083</td>\n",
       "      <td>Share of Value Added (Agriculture, Forestry an...</td>\n",
       "      <td>2009</td>\n",
       "      <td>2009</td>\n",
       "      <td>%</td>\n",
       "      <td>0.18</td>\n",
       "      <td>X</td>\n",
       "      <td>ASTI (Agricultural Science and Technology Indi...</td>\n",
       "    </tr>\n",
       "    <tr>\n",
       "      <th>1</th>\n",
       "      <td>4</td>\n",
       "      <td>Algeria</td>\n",
       "      <td>23045</td>\n",
       "      <td>Agriculture research spending</td>\n",
       "      <td>6083</td>\n",
       "      <td>Share of Value Added (Agriculture, Forestry an...</td>\n",
       "      <td>2010</td>\n",
       "      <td>2010</td>\n",
       "      <td>%</td>\n",
       "      <td>0.18</td>\n",
       "      <td>X</td>\n",
       "      <td>ASTI (Agricultural Science and Technology Indi...</td>\n",
       "    </tr>\n",
       "    <tr>\n",
       "      <th>2</th>\n",
       "      <td>4</td>\n",
       "      <td>Algeria</td>\n",
       "      <td>23045</td>\n",
       "      <td>Agriculture research spending</td>\n",
       "      <td>6083</td>\n",
       "      <td>Share of Value Added (Agriculture, Forestry an...</td>\n",
       "      <td>2011</td>\n",
       "      <td>2011</td>\n",
       "      <td>%</td>\n",
       "      <td>0.21</td>\n",
       "      <td>X</td>\n",
       "      <td>ASTI (Agricultural Science and Technology Indi...</td>\n",
       "    </tr>\n",
       "    <tr>\n",
       "      <th>3</th>\n",
       "      <td>4</td>\n",
       "      <td>Algeria</td>\n",
       "      <td>23045</td>\n",
       "      <td>Agriculture research spending</td>\n",
       "      <td>6083</td>\n",
       "      <td>Share of Value Added (Agriculture, Forestry an...</td>\n",
       "      <td>2012</td>\n",
       "      <td>2012</td>\n",
       "      <td>%</td>\n",
       "      <td>0.21</td>\n",
       "      <td>X</td>\n",
       "      <td>ASTI (Agricultural Science and Technology Indi...</td>\n",
       "    </tr>\n",
       "    <tr>\n",
       "      <th>4</th>\n",
       "      <td>4</td>\n",
       "      <td>Algeria</td>\n",
       "      <td>23045</td>\n",
       "      <td>Agriculture research spending</td>\n",
       "      <td>6084</td>\n",
       "      <td>Spending, total</td>\n",
       "      <td>2009</td>\n",
       "      <td>2009</td>\n",
       "      <td>million PPP (constant 2011 prices)</td>\n",
       "      <td>76.90</td>\n",
       "      <td>X</td>\n",
       "      <td>ASTI (Agricultural Science and Technology Indi...</td>\n",
       "    </tr>\n",
       "    <tr>\n",
       "      <th>...</th>\n",
       "      <td>...</td>\n",
       "      <td>...</td>\n",
       "      <td>...</td>\n",
       "      <td>...</td>\n",
       "      <td>...</td>\n",
       "      <td>...</td>\n",
       "      <td>...</td>\n",
       "      <td>...</td>\n",
       "      <td>...</td>\n",
       "      <td>...</td>\n",
       "      <td>...</td>\n",
       "      <td>...</td>\n",
       "    </tr>\n",
       "    <tr>\n",
       "      <th>3089</th>\n",
       "      <td>181</td>\n",
       "      <td>Zimbabwe</td>\n",
       "      <td>23045</td>\n",
       "      <td>Agriculture research spending</td>\n",
       "      <td>6084</td>\n",
       "      <td>Spending, total</td>\n",
       "      <td>2012</td>\n",
       "      <td>2012</td>\n",
       "      <td>million PPP (constant 2011 prices)</td>\n",
       "      <td>35.80</td>\n",
       "      <td>X</td>\n",
       "      <td>ASTI (Agricultural Science and Technology Indi...</td>\n",
       "    </tr>\n",
       "    <tr>\n",
       "      <th>3090</th>\n",
       "      <td>181</td>\n",
       "      <td>Zimbabwe</td>\n",
       "      <td>23045</td>\n",
       "      <td>Agriculture research spending</td>\n",
       "      <td>6084</td>\n",
       "      <td>Spending, total</td>\n",
       "      <td>2013</td>\n",
       "      <td>2013</td>\n",
       "      <td>million PPP (constant 2011 prices)</td>\n",
       "      <td>46.30</td>\n",
       "      <td>X</td>\n",
       "      <td>ASTI (Agricultural Science and Technology Indi...</td>\n",
       "    </tr>\n",
       "    <tr>\n",
       "      <th>3091</th>\n",
       "      <td>181</td>\n",
       "      <td>Zimbabwe</td>\n",
       "      <td>23045</td>\n",
       "      <td>Agriculture research spending</td>\n",
       "      <td>6084</td>\n",
       "      <td>Spending, total</td>\n",
       "      <td>2014</td>\n",
       "      <td>2014</td>\n",
       "      <td>million PPP (constant 2011 prices)</td>\n",
       "      <td>44.20</td>\n",
       "      <td>X</td>\n",
       "      <td>ASTI (Agricultural Science and Technology Indi...</td>\n",
       "    </tr>\n",
       "    <tr>\n",
       "      <th>3092</th>\n",
       "      <td>181</td>\n",
       "      <td>Zimbabwe</td>\n",
       "      <td>23045</td>\n",
       "      <td>Agriculture research spending</td>\n",
       "      <td>6084</td>\n",
       "      <td>Spending, total</td>\n",
       "      <td>2015</td>\n",
       "      <td>2015</td>\n",
       "      <td>million PPP (constant 2011 prices)</td>\n",
       "      <td>42.90</td>\n",
       "      <td>X</td>\n",
       "      <td>ASTI (Agricultural Science and Technology Indi...</td>\n",
       "    </tr>\n",
       "    <tr>\n",
       "      <th>3093</th>\n",
       "      <td>181</td>\n",
       "      <td>Zimbabwe</td>\n",
       "      <td>23045</td>\n",
       "      <td>Agriculture research spending</td>\n",
       "      <td>6084</td>\n",
       "      <td>Spending, total</td>\n",
       "      <td>2016</td>\n",
       "      <td>2016</td>\n",
       "      <td>million PPP (constant 2011 prices)</td>\n",
       "      <td>41.60</td>\n",
       "      <td>X</td>\n",
       "      <td>ASTI (Agricultural Science and Technology Indi...</td>\n",
       "    </tr>\n",
       "  </tbody>\n",
       "</table>\n",
       "<p>3094 rows × 12 columns</p>\n",
       "</div>"
      ],
      "text/plain": [
       "      Area Code      Area  Item Code                           Item  \\\n",
       "0             4   Algeria      23045  Agriculture research spending   \n",
       "1             4   Algeria      23045  Agriculture research spending   \n",
       "2             4   Algeria      23045  Agriculture research spending   \n",
       "3             4   Algeria      23045  Agriculture research spending   \n",
       "4             4   Algeria      23045  Agriculture research spending   \n",
       "...         ...       ...        ...                            ...   \n",
       "3089        181  Zimbabwe      23045  Agriculture research spending   \n",
       "3090        181  Zimbabwe      23045  Agriculture research spending   \n",
       "3091        181  Zimbabwe      23045  Agriculture research spending   \n",
       "3092        181  Zimbabwe      23045  Agriculture research spending   \n",
       "3093        181  Zimbabwe      23045  Agriculture research spending   \n",
       "\n",
       "      Element Code                                            Element  \\\n",
       "0             6083  Share of Value Added (Agriculture, Forestry an...   \n",
       "1             6083  Share of Value Added (Agriculture, Forestry an...   \n",
       "2             6083  Share of Value Added (Agriculture, Forestry an...   \n",
       "3             6083  Share of Value Added (Agriculture, Forestry an...   \n",
       "4             6084                                    Spending, total   \n",
       "...            ...                                                ...   \n",
       "3089          6084                                    Spending, total   \n",
       "3090          6084                                    Spending, total   \n",
       "3091          6084                                    Spending, total   \n",
       "3092          6084                                    Spending, total   \n",
       "3093          6084                                    Spending, total   \n",
       "\n",
       "      Year Code  Year                                Unit  Value Flag  \\\n",
       "0          2009  2009                                   %   0.18    X   \n",
       "1          2010  2010                                   %   0.18    X   \n",
       "2          2011  2011                                   %   0.21    X   \n",
       "3          2012  2012                                   %   0.21    X   \n",
       "4          2009  2009  million PPP (constant 2011 prices)  76.90    X   \n",
       "...         ...   ...                                 ...    ...  ...   \n",
       "3089       2012  2012  million PPP (constant 2011 prices)  35.80    X   \n",
       "3090       2013  2013  million PPP (constant 2011 prices)  46.30    X   \n",
       "3091       2014  2014  million PPP (constant 2011 prices)  44.20    X   \n",
       "3092       2015  2015  million PPP (constant 2011 prices)  42.90    X   \n",
       "3093       2016  2016  million PPP (constant 2011 prices)  41.60    X   \n",
       "\n",
       "                                                   Note  \n",
       "0     ASTI (Agricultural Science and Technology Indi...  \n",
       "1     ASTI (Agricultural Science and Technology Indi...  \n",
       "2     ASTI (Agricultural Science and Technology Indi...  \n",
       "3     ASTI (Agricultural Science and Technology Indi...  \n",
       "4     ASTI (Agricultural Science and Technology Indi...  \n",
       "...                                                 ...  \n",
       "3089  ASTI (Agricultural Science and Technology Indi...  \n",
       "3090  ASTI (Agricultural Science and Technology Indi...  \n",
       "3091  ASTI (Agricultural Science and Technology Indi...  \n",
       "3092  ASTI (Agricultural Science and Technology Indi...  \n",
       "3093  ASTI (Agricultural Science and Technology Indi...  \n",
       "\n",
       "[3094 rows x 12 columns]"
      ]
     },
     "execution_count": 228,
     "metadata": {},
     "output_type": "execute_result"
    }
   ],
   "source": [
    "folder_path= 'C:/Users/msanchis/Downloads'\n",
    "file_list= glob.glob(folder_path + \"/*(Normalized).csv\" )\n",
    "main_dataframe = pd.DataFrame (pd.read_csv(file_list[0], sep= ',', encoding = 'latin-1'))\n",
    "main_dataframe"
   ]
  },
  {
   "cell_type": "code",
   "execution_count": 229,
   "metadata": {},
   "outputs": [
    {
     "ename": "MemoryError",
     "evalue": "Unable to allocate 512. KiB for an array with shape (65536,) and data type int64",
     "output_type": "error",
     "traceback": [
      "\u001b[1;31m---------------------------------------------------------------------------\u001b[0m",
      "\u001b[1;31mMemoryError\u001b[0m                               Traceback (most recent call last)",
      "\u001b[1;32mc:\\Users\\msanchis\\Documents\\Untitled-1.ipynb Cell 14'\u001b[0m in \u001b[0;36m<cell line: 1>\u001b[1;34m()\u001b[0m\n\u001b[0;32m      <a href='vscode-notebook-cell:/c%3A/Users/msanchis/Documents/Untitled-1.ipynb#ch0000014?line=0'>1</a>\u001b[0m \u001b[39mfor\u001b[39;00m i \u001b[39min\u001b[39;00m \u001b[39mrange\u001b[39m (\u001b[39m1\u001b[39m,\u001b[39m15\u001b[39m):\n\u001b[1;32m----> <a href='vscode-notebook-cell:/c%3A/Users/msanchis/Documents/Untitled-1.ipynb#ch0000014?line=1'>2</a>\u001b[0m     data \u001b[39m=\u001b[39m pd\u001b[39m.\u001b[39;49mread_csv(file_list[i],sep\u001b[39m=\u001b[39;49m\u001b[39m'\u001b[39;49m\u001b[39m,\u001b[39;49m\u001b[39m'\u001b[39;49m, encoding\u001b[39m=\u001b[39;49m\u001b[39m'\u001b[39;49m\u001b[39mlatin-1\u001b[39;49m\u001b[39m'\u001b[39;49m)\n\u001b[0;32m      <a href='vscode-notebook-cell:/c%3A/Users/msanchis/Documents/Untitled-1.ipynb#ch0000014?line=2'>3</a>\u001b[0m     df \u001b[39m=\u001b[39mpd\u001b[39m.\u001b[39mDataFrame(data)\n\u001b[0;32m      <a href='vscode-notebook-cell:/c%3A/Users/msanchis/Documents/Untitled-1.ipynb#ch0000014?line=3'>4</a>\u001b[0m     main_dataframe\u001b[39m=\u001b[39mpd\u001b[39m.\u001b[39mconcat([main_dataframe, df], axis\u001b[39m=\u001b[39m\u001b[39m1\u001b[39m)\n",
      "File \u001b[1;32mc:\\Users\\msanchis\\AppData\\Local\\Programs\\Python\\Python310\\lib\\site-packages\\pandas\\util\\_decorators.py:311\u001b[0m, in \u001b[0;36mdeprecate_nonkeyword_arguments.<locals>.decorate.<locals>.wrapper\u001b[1;34m(*args, **kwargs)\u001b[0m\n\u001b[0;32m    <a href='file:///c%3A/Users/msanchis/AppData/Local/Programs/Python/Python310/lib/site-packages/pandas/util/_decorators.py?line=304'>305</a>\u001b[0m \u001b[39mif\u001b[39;00m \u001b[39mlen\u001b[39m(args) \u001b[39m>\u001b[39m num_allow_args:\n\u001b[0;32m    <a href='file:///c%3A/Users/msanchis/AppData/Local/Programs/Python/Python310/lib/site-packages/pandas/util/_decorators.py?line=305'>306</a>\u001b[0m     warnings\u001b[39m.\u001b[39mwarn(\n\u001b[0;32m    <a href='file:///c%3A/Users/msanchis/AppData/Local/Programs/Python/Python310/lib/site-packages/pandas/util/_decorators.py?line=306'>307</a>\u001b[0m         msg\u001b[39m.\u001b[39mformat(arguments\u001b[39m=\u001b[39marguments),\n\u001b[0;32m    <a href='file:///c%3A/Users/msanchis/AppData/Local/Programs/Python/Python310/lib/site-packages/pandas/util/_decorators.py?line=307'>308</a>\u001b[0m         \u001b[39mFutureWarning\u001b[39;00m,\n\u001b[0;32m    <a href='file:///c%3A/Users/msanchis/AppData/Local/Programs/Python/Python310/lib/site-packages/pandas/util/_decorators.py?line=308'>309</a>\u001b[0m         stacklevel\u001b[39m=\u001b[39mstacklevel,\n\u001b[0;32m    <a href='file:///c%3A/Users/msanchis/AppData/Local/Programs/Python/Python310/lib/site-packages/pandas/util/_decorators.py?line=309'>310</a>\u001b[0m     )\n\u001b[1;32m--> <a href='file:///c%3A/Users/msanchis/AppData/Local/Programs/Python/Python310/lib/site-packages/pandas/util/_decorators.py?line=310'>311</a>\u001b[0m \u001b[39mreturn\u001b[39;00m func(\u001b[39m*\u001b[39margs, \u001b[39m*\u001b[39m\u001b[39m*\u001b[39mkwargs)\n",
      "File \u001b[1;32mc:\\Users\\msanchis\\AppData\\Local\\Programs\\Python\\Python310\\lib\\site-packages\\pandas\\io\\parsers\\readers.py:680\u001b[0m, in \u001b[0;36mread_csv\u001b[1;34m(filepath_or_buffer, sep, delimiter, header, names, index_col, usecols, squeeze, prefix, mangle_dupe_cols, dtype, engine, converters, true_values, false_values, skipinitialspace, skiprows, skipfooter, nrows, na_values, keep_default_na, na_filter, verbose, skip_blank_lines, parse_dates, infer_datetime_format, keep_date_col, date_parser, dayfirst, cache_dates, iterator, chunksize, compression, thousands, decimal, lineterminator, quotechar, quoting, doublequote, escapechar, comment, encoding, encoding_errors, dialect, error_bad_lines, warn_bad_lines, on_bad_lines, delim_whitespace, low_memory, memory_map, float_precision, storage_options)\u001b[0m\n\u001b[0;32m    <a href='file:///c%3A/Users/msanchis/AppData/Local/Programs/Python/Python310/lib/site-packages/pandas/io/parsers/readers.py?line=664'>665</a>\u001b[0m kwds_defaults \u001b[39m=\u001b[39m _refine_defaults_read(\n\u001b[0;32m    <a href='file:///c%3A/Users/msanchis/AppData/Local/Programs/Python/Python310/lib/site-packages/pandas/io/parsers/readers.py?line=665'>666</a>\u001b[0m     dialect,\n\u001b[0;32m    <a href='file:///c%3A/Users/msanchis/AppData/Local/Programs/Python/Python310/lib/site-packages/pandas/io/parsers/readers.py?line=666'>667</a>\u001b[0m     delimiter,\n\u001b[1;32m   (...)\u001b[0m\n\u001b[0;32m    <a href='file:///c%3A/Users/msanchis/AppData/Local/Programs/Python/Python310/lib/site-packages/pandas/io/parsers/readers.py?line=675'>676</a>\u001b[0m     defaults\u001b[39m=\u001b[39m{\u001b[39m\"\u001b[39m\u001b[39mdelimiter\u001b[39m\u001b[39m\"\u001b[39m: \u001b[39m\"\u001b[39m\u001b[39m,\u001b[39m\u001b[39m\"\u001b[39m},\n\u001b[0;32m    <a href='file:///c%3A/Users/msanchis/AppData/Local/Programs/Python/Python310/lib/site-packages/pandas/io/parsers/readers.py?line=676'>677</a>\u001b[0m )\n\u001b[0;32m    <a href='file:///c%3A/Users/msanchis/AppData/Local/Programs/Python/Python310/lib/site-packages/pandas/io/parsers/readers.py?line=677'>678</a>\u001b[0m kwds\u001b[39m.\u001b[39mupdate(kwds_defaults)\n\u001b[1;32m--> <a href='file:///c%3A/Users/msanchis/AppData/Local/Programs/Python/Python310/lib/site-packages/pandas/io/parsers/readers.py?line=679'>680</a>\u001b[0m \u001b[39mreturn\u001b[39;00m _read(filepath_or_buffer, kwds)\n",
      "File \u001b[1;32mc:\\Users\\msanchis\\AppData\\Local\\Programs\\Python\\Python310\\lib\\site-packages\\pandas\\io\\parsers\\readers.py:581\u001b[0m, in \u001b[0;36m_read\u001b[1;34m(filepath_or_buffer, kwds)\u001b[0m\n\u001b[0;32m    <a href='file:///c%3A/Users/msanchis/AppData/Local/Programs/Python/Python310/lib/site-packages/pandas/io/parsers/readers.py?line=577'>578</a>\u001b[0m     \u001b[39mreturn\u001b[39;00m parser\n\u001b[0;32m    <a href='file:///c%3A/Users/msanchis/AppData/Local/Programs/Python/Python310/lib/site-packages/pandas/io/parsers/readers.py?line=579'>580</a>\u001b[0m \u001b[39mwith\u001b[39;00m parser:\n\u001b[1;32m--> <a href='file:///c%3A/Users/msanchis/AppData/Local/Programs/Python/Python310/lib/site-packages/pandas/io/parsers/readers.py?line=580'>581</a>\u001b[0m     \u001b[39mreturn\u001b[39;00m parser\u001b[39m.\u001b[39;49mread(nrows)\n",
      "File \u001b[1;32mc:\\Users\\msanchis\\AppData\\Local\\Programs\\Python\\Python310\\lib\\site-packages\\pandas\\io\\parsers\\readers.py:1254\u001b[0m, in \u001b[0;36mTextFileReader.read\u001b[1;34m(self, nrows)\u001b[0m\n\u001b[0;32m   <a href='file:///c%3A/Users/msanchis/AppData/Local/Programs/Python/Python310/lib/site-packages/pandas/io/parsers/readers.py?line=1251'>1252</a>\u001b[0m nrows \u001b[39m=\u001b[39m validate_integer(\u001b[39m\"\u001b[39m\u001b[39mnrows\u001b[39m\u001b[39m\"\u001b[39m, nrows)\n\u001b[0;32m   <a href='file:///c%3A/Users/msanchis/AppData/Local/Programs/Python/Python310/lib/site-packages/pandas/io/parsers/readers.py?line=1252'>1253</a>\u001b[0m \u001b[39mtry\u001b[39;00m:\n\u001b[1;32m-> <a href='file:///c%3A/Users/msanchis/AppData/Local/Programs/Python/Python310/lib/site-packages/pandas/io/parsers/readers.py?line=1253'>1254</a>\u001b[0m     index, columns, col_dict \u001b[39m=\u001b[39m \u001b[39mself\u001b[39;49m\u001b[39m.\u001b[39;49m_engine\u001b[39m.\u001b[39;49mread(nrows)\n\u001b[0;32m   <a href='file:///c%3A/Users/msanchis/AppData/Local/Programs/Python/Python310/lib/site-packages/pandas/io/parsers/readers.py?line=1254'>1255</a>\u001b[0m \u001b[39mexcept\u001b[39;00m \u001b[39mException\u001b[39;00m:\n\u001b[0;32m   <a href='file:///c%3A/Users/msanchis/AppData/Local/Programs/Python/Python310/lib/site-packages/pandas/io/parsers/readers.py?line=1255'>1256</a>\u001b[0m     \u001b[39mself\u001b[39m\u001b[39m.\u001b[39mclose()\n",
      "File \u001b[1;32mc:\\Users\\msanchis\\AppData\\Local\\Programs\\Python\\Python310\\lib\\site-packages\\pandas\\io\\parsers\\c_parser_wrapper.py:225\u001b[0m, in \u001b[0;36mCParserWrapper.read\u001b[1;34m(self, nrows)\u001b[0m\n\u001b[0;32m    <a href='file:///c%3A/Users/msanchis/AppData/Local/Programs/Python/Python310/lib/site-packages/pandas/io/parsers/c_parser_wrapper.py?line=222'>223</a>\u001b[0m \u001b[39mtry\u001b[39;00m:\n\u001b[0;32m    <a href='file:///c%3A/Users/msanchis/AppData/Local/Programs/Python/Python310/lib/site-packages/pandas/io/parsers/c_parser_wrapper.py?line=223'>224</a>\u001b[0m     \u001b[39mif\u001b[39;00m \u001b[39mself\u001b[39m\u001b[39m.\u001b[39mlow_memory:\n\u001b[1;32m--> <a href='file:///c%3A/Users/msanchis/AppData/Local/Programs/Python/Python310/lib/site-packages/pandas/io/parsers/c_parser_wrapper.py?line=224'>225</a>\u001b[0m         chunks \u001b[39m=\u001b[39m \u001b[39mself\u001b[39;49m\u001b[39m.\u001b[39;49m_reader\u001b[39m.\u001b[39;49mread_low_memory(nrows)\n\u001b[0;32m    <a href='file:///c%3A/Users/msanchis/AppData/Local/Programs/Python/Python310/lib/site-packages/pandas/io/parsers/c_parser_wrapper.py?line=225'>226</a>\u001b[0m         \u001b[39m# destructive to chunks\u001b[39;00m\n\u001b[0;32m    <a href='file:///c%3A/Users/msanchis/AppData/Local/Programs/Python/Python310/lib/site-packages/pandas/io/parsers/c_parser_wrapper.py?line=226'>227</a>\u001b[0m         data \u001b[39m=\u001b[39m _concatenate_chunks(chunks)\n",
      "File \u001b[1;32mc:\\Users\\msanchis\\AppData\\Local\\Programs\\Python\\Python310\\lib\\site-packages\\pandas\\_libs\\parsers.pyx:805\u001b[0m, in \u001b[0;36mpandas._libs.parsers.TextReader.read_low_memory\u001b[1;34m()\u001b[0m\n",
      "File \u001b[1;32mc:\\Users\\msanchis\\AppData\\Local\\Programs\\Python\\Python310\\lib\\site-packages\\pandas\\_libs\\parsers.pyx:883\u001b[0m, in \u001b[0;36mpandas._libs.parsers.TextReader._read_rows\u001b[1;34m()\u001b[0m\n",
      "File \u001b[1;32mc:\\Users\\msanchis\\AppData\\Local\\Programs\\Python\\Python310\\lib\\site-packages\\pandas\\_libs\\parsers.pyx:1026\u001b[0m, in \u001b[0;36mpandas._libs.parsers.TextReader._convert_column_data\u001b[1;34m()\u001b[0m\n",
      "File \u001b[1;32mc:\\Users\\msanchis\\AppData\\Local\\Programs\\Python\\Python310\\lib\\site-packages\\pandas\\_libs\\parsers.pyx:1072\u001b[0m, in \u001b[0;36mpandas._libs.parsers.TextReader._convert_tokens\u001b[1;34m()\u001b[0m\n",
      "File \u001b[1;32mc:\\Users\\msanchis\\AppData\\Local\\Programs\\Python\\Python310\\lib\\site-packages\\pandas\\_libs\\parsers.pyx:1172\u001b[0m, in \u001b[0;36mpandas._libs.parsers.TextReader._convert_with_dtype\u001b[1;34m()\u001b[0m\n",
      "File \u001b[1;32mc:\\Users\\msanchis\\AppData\\Local\\Programs\\Python\\Python310\\lib\\site-packages\\pandas\\_libs\\parsers.pyx:1731\u001b[0m, in \u001b[0;36mpandas._libs.parsers._try_int64\u001b[1;34m()\u001b[0m\n",
      "\u001b[1;31mMemoryError\u001b[0m: Unable to allocate 512. KiB for an array with shape (65536,) and data type int64"
     ]
    }
   ],
   "source": [
    "for i in range (1,15):\n",
    "    data = pd.read_csv(file_list[i],sep=',', encoding='latin-1')\n",
    "    df =pd.DataFrame(data)\n",
    "    main_dataframe=pd.concat([main_dataframe, df], axis=1)"
   ]
  },
  {
   "cell_type": "code",
   "execution_count": null,
   "metadata": {},
   "outputs": [],
   "source": []
  }
 ],
 "metadata": {
  "interpreter": {
   "hash": "6eb7d387bc90aa4ec5548e20d645cb5e3292389fd6ad65b4706bb6a1e043ece0"
  },
  "kernelspec": {
   "display_name": "Python 3.10.4 64-bit",
   "language": "python",
   "name": "python3"
  },
  "language_info": {
   "codemirror_mode": {
    "name": "ipython",
    "version": 3
   },
   "file_extension": ".py",
   "mimetype": "text/x-python",
   "name": "python",
   "nbconvert_exporter": "python",
   "pygments_lexer": "ipython3",
   "version": "3.10.4"
  },
  "orig_nbformat": 4
 },
 "nbformat": 4,
 "nbformat_minor": 2
}
