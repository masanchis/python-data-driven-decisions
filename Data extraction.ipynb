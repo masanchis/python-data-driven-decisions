{
 "cells": [
  {
   "cell_type": "markdown",
   "metadata": {},
   "source": [
    "# Data extraction"
   ]
  },
  {
   "cell_type": "markdown",
   "metadata": {},
   "source": [
    "In the following cells we are going to import the data from the [FAO website](https://www.fao.org/faostat/en/#home), from their FAOSTAT section, and decompress it. So later on, we can process it in the integration, and subsequent parts."
   ]
  },
  {
   "cell_type": "code",
   "execution_count": 9,
   "metadata": {},
   "outputs": [],
   "source": [
    "import requests\n",
    "import glob\n",
    "import os"
   ]
  },
  {
   "cell_type": "markdown",
   "metadata": {},
   "source": [
    "To download the data from their site, as it is around 1000 Mb the compressed files, we are going to need a bypass of the <code>stream</code> and <code>verify</code>. Therefore, at the end we will have the data downloaded in our working directory data by design. (It can be obtained with the following function <code>os.getcwd()</code>)"
   ]
  },
  {
   "cell_type": "code",
   "execution_count": null,
   "metadata": {},
   "outputs": [],
   "source": [
    "url = 'https://fenixservices.fao.org/faostat/static/bulkdownloads/FAOSTAT.zip'\n",
    "r = requests.get(url, allow_redirects=True, stream = True,verify=False)\n",
    "open('FAOSTAT.zip', 'wb').write(r.content)"
   ]
  },
  {
   "cell_type": "markdown",
   "metadata": {},
   "source": [
    "Then we extract all the files that are contained in <em>'FAOSTAT.zip'</em> to the default directory."
   ]
  },
  {
   "cell_type": "code",
   "execution_count": null,
   "metadata": {},
   "outputs": [],
   "source": [
    "from zipfile import ZipFile\n",
    "zip_name = \"FAOSTAT.zip\"\n",
    "with ZipFile(zip_name, 'r') as zip:\n",
    "    zip.printdir()\n",
    "    zip.extractall() "
   ]
  },
  {
   "cell_type": "markdown",
   "metadata": {},
   "source": [
    "And finally we decompressed all the files that have been extracted from the <em>'FAOSTAT.zip'</em>, into the default directory, with a simple <code>for </code> loop. "
   ]
  },
  {
   "cell_type": "code",
   "execution_count": null,
   "metadata": {},
   "outputs": [],
   "source": [
    "zip_list = glob.glob(os.getcwd()+'/**.zip')\n",
    "for i in range(0, len(zip_list)):\n",
    "    with ZipFile(zip_list[i], 'r') as zip:\n",
    "        zip.printdir()\n",
    "        zip.extractall() "
   ]
  }
 ],
 "metadata": {
  "kernelspec": {
   "display_name": "Python 3.9.12 ('base')",
   "language": "python",
   "name": "python3"
  },
  "language_info": {
   "codemirror_mode": {
    "name": "ipython",
    "version": 3
   },
   "file_extension": ".py",
   "mimetype": "text/x-python",
   "name": "python",
   "nbconvert_exporter": "python",
   "pygments_lexer": "ipython3",
   "version": "3.9.12"
  },
  "orig_nbformat": 4,
  "vscode": {
   "interpreter": {
    "hash": "db2f77d7771d8a0072cf3f8e7f9965a22a9c65bf4f8ee5135b3d479c9967abaa"
   }
  }
 },
 "nbformat": 4,
 "nbformat_minor": 2
}
