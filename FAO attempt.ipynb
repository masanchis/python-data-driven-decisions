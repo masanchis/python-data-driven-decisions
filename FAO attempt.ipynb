{
 "cells": [
  {
   "cell_type": "markdown",
   "metadata": {},
   "source": [
    "# Basics"
   ]
  },
  {
   "cell_type": "markdown",
   "metadata": {},
   "source": [
    "Import libraries and functions.\n",
    "\n",
    "</p>Search for archives, and create the 1st data frame, as well as an empty list for the headers (h) and the list for comun columns (CC)"
   ]
  },
  {
   "cell_type": "code",
   "execution_count": 1,
   "metadata": {},
   "outputs": [],
   "source": [
    "import pandas as pd\n",
    "import numpy as np\n",
    "import glob\n",
    "from functools import reduce\n",
    "folder_path = 'C:/Users/amarchve/Desktop/Data'\n",
    "file_list = glob.glob(folder_path + \"/**(Normalized).csv\")\n",
    "CC=['Area','Year','Element','Unit','Value']"
   ]
  },
  {
   "cell_type": "markdown",
   "metadata": {},
   "source": [
    "# Headers"
   ]
  },
  {
   "cell_type": "markdown",
   "metadata": {},
   "source": [
    "Test run for loop of headers"
   ]
  },
  {
   "cell_type": "code",
   "execution_count": 7,
   "metadata": {},
   "outputs": [
    {
     "data": {
      "text/plain": [
       "[Index(['Area', 'Year', 'Element', 'Unit', 'Value'], dtype='object'),\n",
       " Index(['Area', 'Year', 'Element', 'Unit', 'Value'], dtype='object'),\n",
       " Index(['Area', 'Year', 'Element', 'Unit', 'Value'], dtype='object'),\n",
       " Index(['Area', 'Year', 'Element', 'Unit', 'Value'], dtype='object'),\n",
       " Index(['Area', 'Year', 'Element', 'Unit', 'Value'], dtype='object'),\n",
       " Index(['Area', 'Year', 'Element', 'Unit', 'Value'], dtype='object'),\n",
       " Index(['Area', 'Year', 'Element', 'Unit', 'Value'], dtype='object'),\n",
       " Index(['Area', 'Year', 'Element', 'Unit', 'Value'], dtype='object'),\n",
       " Index(['Area', 'Year', 'Element', 'Unit', 'Value'], dtype='object')]"
      ]
     },
     "execution_count": 7,
     "metadata": {},
     "output_type": "execute_result"
    }
   ],
   "source": [
    "h=[]\n",
    "for i in range(1,10):\n",
    "    data = pd.DataFrame(pd.read_csv(file_list[i],sep=',' , encoding='latin-1',low_memory=False), columns=CC)\n",
    "    header=data.columns\n",
    "    h.append(header)\n",
    "h"
   ]
  },
  {
   "cell_type": "code",
   "execution_count": 8,
   "metadata": {},
   "outputs": [
    {
     "data": {
      "text/plain": [
       "[Index(['Area', 'Year', 'Element', 'Unit', 'Value'], dtype='object'),\n",
       " Index(['Area', 'Year', 'Element', 'Unit', 'Value'], dtype='object'),\n",
       " Index(['Area', 'Year', 'Element', 'Unit', 'Value'], dtype='object'),\n",
       " Index(['Area', 'Year', 'Element', 'Unit', 'Value'], dtype='object'),\n",
       " Index(['Area', 'Year', 'Element', 'Unit', 'Value'], dtype='object'),\n",
       " Index(['Area', 'Year', 'Element', 'Unit', 'Value'], dtype='object'),\n",
       " Index(['Area', 'Year', 'Element', 'Unit', 'Value'], dtype='object'),\n",
       " Index(['Area', 'Year', 'Element', 'Unit', 'Value'], dtype='object'),\n",
       " Index(['Area', 'Year', 'Element', 'Unit', 'Value'], dtype='object')]"
      ]
     },
     "execution_count": 8,
     "metadata": {},
     "output_type": "execute_result"
    }
   ],
   "source": [
    "h=[]\n",
    "for i in range(1,10):\n",
    "    data = pd.DataFrame(pd.read_csv(file_list[i],sep=',' , encoding='latin-1',low_memory=False), columns=['Area','Year','Element','Unit','Value'])\n",
    "    header=data.columns\n",
    "    h.append(header)\n",
    "h"
   ]
  },
  {
   "cell_type": "markdown",
   "metadata": {},
   "source": [
    "*Therefore using a predetermined list is a way faster than typing the columns*"
   ]
  },
  {
   "cell_type": "markdown",
   "metadata": {},
   "source": [
    "Loop to assure headers are equal - Discarded"
   ]
  },
  {
   "cell_type": "code",
   "execution_count": 12,
   "metadata": {},
   "outputs": [
    {
     "name": "stdout",
     "output_type": "stream",
     "text": [
      "False\n",
      "False\n",
      "False\n",
      "False\n",
      "False\n"
     ]
    },
    {
     "ename": "ValueError",
     "evalue": "The truth value of an array with more than one element is ambiguous. Use a.any() or a.all()",
     "output_type": "error",
     "traceback": [
      "\u001b[1;31m---------------------------------------------------------------------------\u001b[0m",
      "\u001b[1;31mValueError\u001b[0m                                Traceback (most recent call last)",
      "\u001b[1;32mc:\\Users\\amarchve\\attempt\\Best attempt.ipynb Cell 7'\u001b[0m in \u001b[0;36m<cell line: 1>\u001b[1;34m()\u001b[0m\n\u001b[0;32m      <a href='vscode-notebook-cell:/c%3A/Users/amarchve/attempt/Best%20attempt.ipynb#ch0000015?line=0'>1</a>\u001b[0m \u001b[39mfor\u001b[39;00m i \u001b[39min\u001b[39;00m \u001b[39mrange\u001b[39m (\u001b[39m0\u001b[39m,\u001b[39m14\u001b[39m):\n\u001b[0;32m      <a href='vscode-notebook-cell:/c%3A/Users/amarchve/attempt/Best%20attempt.ipynb#ch0000015?line=1'>2</a>\u001b[0m     \u001b[39mif\u001b[39;00m \u001b[39mlen\u001b[39m(h[i])\u001b[39m==\u001b[39m\u001b[39mlen\u001b[39m(h[i\u001b[39m+\u001b[39m\u001b[39m1\u001b[39m]):\n\u001b[1;32m----> <a href='vscode-notebook-cell:/c%3A/Users/amarchve/attempt/Best%20attempt.ipynb#ch0000015?line=2'>3</a>\u001b[0m         \u001b[39mif\u001b[39;00m h[i]\u001b[39m==\u001b[39;49mh[i\u001b[39m+\u001b[39;49m\u001b[39m1\u001b[39;49m]:\n\u001b[0;32m      <a href='vscode-notebook-cell:/c%3A/Users/amarchve/attempt/Best%20attempt.ipynb#ch0000015?line=3'>4</a>\u001b[0m             \u001b[39mprint\u001b[39m (\u001b[39m'\u001b[39m\u001b[39mTrue\u001b[39m\u001b[39m'\u001b[39m)\n\u001b[0;32m      <a href='vscode-notebook-cell:/c%3A/Users/amarchve/attempt/Best%20attempt.ipynb#ch0000015?line=4'>5</a>\u001b[0m         \u001b[39melse\u001b[39;00m:\n",
      "\u001b[1;31mValueError\u001b[0m: The truth value of an array with more than one element is ambiguous. Use a.any() or a.all()"
     ]
    }
   ],
   "source": [
    "for i in range (0,14):\n",
    "    if len(h[i])==len(h[i+1]):\n",
    "        if h[i]==h[i+1]:\n",
    "            print ('True')\n",
    "        else:\n",
    "            print ('false')\n",
    "    else:\n",
    "        print('False')"
   ]
  },
  {
   "cell_type": "markdown",
   "metadata": {},
   "source": [
    "Loop for a list of all the headers"
   ]
  },
  {
   "cell_type": "code",
   "execution_count": 6,
   "metadata": {},
   "outputs": [],
   "source": [
    "for i in range(1,len(file_list)):\n",
    "    data = pd.DataFrame(pd.read_csv(file_list[i],sep=',' , encoding='latin-1',low_memory=False))\n",
    "    header=data.columns\n",
    "    h.append(header)\n",
    "h\n"
   ]
  },
  {
   "cell_type": "markdown",
   "metadata": {},
   "source": [
    "# Concat union"
   ]
  },
  {
   "cell_type": "markdown",
   "metadata": {},
   "source": [
    "Test run for the loop of concated data frames"
   ]
  },
  {
   "cell_type": "code",
   "execution_count": 12,
   "metadata": {},
   "outputs": [],
   "source": [
    "main_dataframe = pd.DataFrame(pd.read_csv(file_list[0], sep=',', encoding='latin-1'),columns=CC)\n",
    "for i in range(1,5):\n",
    "    df = pd.DataFrame(pd.read_csv(file_list[i],sep=',' , encoding='latin-1',low_memory=False), columns=CC)\n",
    "    main_dataframe = pd.concat([main_dataframe, df])\n",
    "\n",
    "main_dataframeC=main_dataframe"
   ]
  },
  {
   "cell_type": "markdown",
   "metadata": {},
   "source": [
    "Loop for concat the dataframes, and create a unique DF (Executing time, unknown,but > 30min)"
   ]
  },
  {
   "cell_type": "code",
   "execution_count": 18,
   "metadata": {},
   "outputs": [],
   "source": [
    "for i in range(1,len(file_list)):\n",
    "    df = pd.DataFrame(pd.read_csv(file_list[i],sep=',' , encoding='latin-1',low_memory=False), columns=CC)\n",
    "    main_dataframe = pd.concat([main_dataframe, df])\n",
    "\n",
    "main_dataframe"
   ]
  },
  {
   "cell_type": "markdown",
   "metadata": {},
   "source": [
    "# Merge union"
   ]
  },
  {
   "cell_type": "markdown",
   "metadata": {},
   "source": [
    "Test loop of merge instead of append."
   ]
  },
  {
   "cell_type": "code",
   "execution_count": 2,
   "metadata": {},
   "outputs": [
    {
     "name": "stderr",
     "output_type": "stream",
     "text": [
      "C:\\Users\\amarchve\\AppData\\Local\\Temp\\ipykernel_11464\\2898014445.py:4: FutureWarning: Passing 'suffixes' which cause duplicate columns {'Element_x', 'Unit_x', 'Value_x'} in the result is deprecated and will raise a MergeError in a future version.\n",
      "  main_dataframe = pd.merge(left=main_dataframe, right=df , how='left', on= ['Area','Year'])\n"
     ]
    },
    {
     "data": {
      "text/html": [
       "<div>\n",
       "<style scoped>\n",
       "    .dataframe tbody tr th:only-of-type {\n",
       "        vertical-align: middle;\n",
       "    }\n",
       "\n",
       "    .dataframe tbody tr th {\n",
       "        vertical-align: top;\n",
       "    }\n",
       "\n",
       "    .dataframe thead th {\n",
       "        text-align: right;\n",
       "    }\n",
       "</style>\n",
       "<table border=\"1\" class=\"dataframe\">\n",
       "  <thead>\n",
       "    <tr style=\"text-align: right;\">\n",
       "      <th></th>\n",
       "      <th>Area</th>\n",
       "      <th>Year</th>\n",
       "      <th>Element_x</th>\n",
       "      <th>Unit_x</th>\n",
       "      <th>Value_x</th>\n",
       "      <th>Element_y</th>\n",
       "      <th>Unit_y</th>\n",
       "      <th>Value_y</th>\n",
       "      <th>Element_x</th>\n",
       "      <th>Unit_x</th>\n",
       "      <th>Value_x</th>\n",
       "      <th>Element_y</th>\n",
       "      <th>Unit_y</th>\n",
       "      <th>Value_y</th>\n",
       "      <th>Element</th>\n",
       "      <th>Unit</th>\n",
       "      <th>Value</th>\n",
       "    </tr>\n",
       "  </thead>\n",
       "  <tbody>\n",
       "    <tr>\n",
       "      <th>0</th>\n",
       "      <td>Algeria</td>\n",
       "      <td>2009</td>\n",
       "      <td>Share of Value Added (Agriculture, Forestry an...</td>\n",
       "      <td>%</td>\n",
       "      <td>0.18</td>\n",
       "      <td>Researchers, total</td>\n",
       "      <td>FTE</td>\n",
       "      <td>510.3</td>\n",
       "      <td>Import Quantity</td>\n",
       "      <td>tonnes</td>\n",
       "      <td>2771.0</td>\n",
       "      <td>NaN</td>\n",
       "      <td>NaN</td>\n",
       "      <td>69.503120</td>\n",
       "      <td>Value Local Currency, 2015 prices</td>\n",
       "      <td>LCU</td>\n",
       "      <td>72.7492</td>\n",
       "    </tr>\n",
       "    <tr>\n",
       "      <th>1</th>\n",
       "      <td>Algeria</td>\n",
       "      <td>2009</td>\n",
       "      <td>Share of Value Added (Agriculture, Forestry an...</td>\n",
       "      <td>%</td>\n",
       "      <td>0.18</td>\n",
       "      <td>Researchers, total</td>\n",
       "      <td>FTE</td>\n",
       "      <td>510.3</td>\n",
       "      <td>Import Quantity</td>\n",
       "      <td>tonnes</td>\n",
       "      <td>2771.0</td>\n",
       "      <td>NaN</td>\n",
       "      <td>NaN</td>\n",
       "      <td>69.503120</td>\n",
       "      <td>Value US$, 2015 prices</td>\n",
       "      <td>US$</td>\n",
       "      <td>100.8325</td>\n",
       "    </tr>\n",
       "    <tr>\n",
       "      <th>2</th>\n",
       "      <td>Algeria</td>\n",
       "      <td>2009</td>\n",
       "      <td>Share of Value Added (Agriculture, Forestry an...</td>\n",
       "      <td>%</td>\n",
       "      <td>0.18</td>\n",
       "      <td>Researchers, total</td>\n",
       "      <td>FTE</td>\n",
       "      <td>510.3</td>\n",
       "      <td>Import Quantity</td>\n",
       "      <td>tonnes</td>\n",
       "      <td>2771.0</td>\n",
       "      <td>NaN</td>\n",
       "      <td>NaN</td>\n",
       "      <td>69.503120</td>\n",
       "      <td>Value Local Currency, 2015 prices</td>\n",
       "      <td>LCU</td>\n",
       "      <td>77.8007</td>\n",
       "    </tr>\n",
       "    <tr>\n",
       "      <th>3</th>\n",
       "      <td>Algeria</td>\n",
       "      <td>2009</td>\n",
       "      <td>Share of Value Added (Agriculture, Forestry an...</td>\n",
       "      <td>%</td>\n",
       "      <td>0.18</td>\n",
       "      <td>Researchers, total</td>\n",
       "      <td>FTE</td>\n",
       "      <td>510.3</td>\n",
       "      <td>Import Quantity</td>\n",
       "      <td>tonnes</td>\n",
       "      <td>2771.0</td>\n",
       "      <td>NaN</td>\n",
       "      <td>NaN</td>\n",
       "      <td>69.503120</td>\n",
       "      <td>Value US$, 2015 prices</td>\n",
       "      <td>US$</td>\n",
       "      <td>107.8340</td>\n",
       "    </tr>\n",
       "    <tr>\n",
       "      <th>4</th>\n",
       "      <td>Algeria</td>\n",
       "      <td>2009</td>\n",
       "      <td>Share of Value Added (Agriculture, Forestry an...</td>\n",
       "      <td>%</td>\n",
       "      <td>0.18</td>\n",
       "      <td>Researchers, total</td>\n",
       "      <td>FTE</td>\n",
       "      <td>510.3</td>\n",
       "      <td>Import Quantity</td>\n",
       "      <td>tonnes</td>\n",
       "      <td>2771.0</td>\n",
       "      <td>NaN</td>\n",
       "      <td>NaN</td>\n",
       "      <td>69.503120</td>\n",
       "      <td>Value Local Currency, 2015 prices</td>\n",
       "      <td>LCU</td>\n",
       "      <td>71.0064</td>\n",
       "    </tr>\n",
       "    <tr>\n",
       "      <th>...</th>\n",
       "      <td>...</td>\n",
       "      <td>...</td>\n",
       "      <td>...</td>\n",
       "      <td>...</td>\n",
       "      <td>...</td>\n",
       "      <td>...</td>\n",
       "      <td>...</td>\n",
       "      <td>...</td>\n",
       "      <td>...</td>\n",
       "      <td>...</td>\n",
       "      <td>...</td>\n",
       "      <td>...</td>\n",
       "      <td>...</td>\n",
       "      <td>...</td>\n",
       "      <td>...</td>\n",
       "      <td>...</td>\n",
       "      <td>...</td>\n",
       "    </tr>\n",
       "    <tr>\n",
       "      <th>99495815</th>\n",
       "      <td>Zimbabwe</td>\n",
       "      <td>2016</td>\n",
       "      <td>Spending, total</td>\n",
       "      <td>million PPP (constant 2011 prices)</td>\n",
       "      <td>41.60</td>\n",
       "      <td>Per 100,000 farmers</td>\n",
       "      <td>FTE</td>\n",
       "      <td>6.5</td>\n",
       "      <td>NaN</td>\n",
       "      <td>NaN</td>\n",
       "      <td>NaN</td>\n",
       "      <td>NaN</td>\n",
       "      <td>%</td>\n",
       "      <td>-0.899281</td>\n",
       "      <td>Value US$, 2015 prices</td>\n",
       "      <td>US$</td>\n",
       "      <td>100.5032</td>\n",
       "    </tr>\n",
       "    <tr>\n",
       "      <th>99495816</th>\n",
       "      <td>Zimbabwe</td>\n",
       "      <td>2016</td>\n",
       "      <td>Spending, total</td>\n",
       "      <td>million PPP (constant 2011 prices)</td>\n",
       "      <td>41.60</td>\n",
       "      <td>Per 100,000 farmers</td>\n",
       "      <td>FTE</td>\n",
       "      <td>6.5</td>\n",
       "      <td>NaN</td>\n",
       "      <td>NaN</td>\n",
       "      <td>NaN</td>\n",
       "      <td>NaN</td>\n",
       "      <td>%</td>\n",
       "      <td>-0.899281</td>\n",
       "      <td>Value Local Currency, 2015 prices</td>\n",
       "      <td>LCU</td>\n",
       "      <td>101.7875</td>\n",
       "    </tr>\n",
       "    <tr>\n",
       "      <th>99495817</th>\n",
       "      <td>Zimbabwe</td>\n",
       "      <td>2016</td>\n",
       "      <td>Spending, total</td>\n",
       "      <td>million PPP (constant 2011 prices)</td>\n",
       "      <td>41.60</td>\n",
       "      <td>Per 100,000 farmers</td>\n",
       "      <td>FTE</td>\n",
       "      <td>6.5</td>\n",
       "      <td>NaN</td>\n",
       "      <td>NaN</td>\n",
       "      <td>NaN</td>\n",
       "      <td>NaN</td>\n",
       "      <td>%</td>\n",
       "      <td>-0.899281</td>\n",
       "      <td>Value US$, 2015 prices</td>\n",
       "      <td>US$</td>\n",
       "      <td>101.7875</td>\n",
       "    </tr>\n",
       "    <tr>\n",
       "      <th>99495818</th>\n",
       "      <td>Zimbabwe</td>\n",
       "      <td>2016</td>\n",
       "      <td>Spending, total</td>\n",
       "      <td>million PPP (constant 2011 prices)</td>\n",
       "      <td>41.60</td>\n",
       "      <td>Per 100,000 farmers</td>\n",
       "      <td>FTE</td>\n",
       "      <td>6.5</td>\n",
       "      <td>NaN</td>\n",
       "      <td>NaN</td>\n",
       "      <td>NaN</td>\n",
       "      <td>NaN</td>\n",
       "      <td>%</td>\n",
       "      <td>-0.899281</td>\n",
       "      <td>Value Local Currency, 2015 prices</td>\n",
       "      <td>LCU</td>\n",
       "      <td>99.8458</td>\n",
       "    </tr>\n",
       "    <tr>\n",
       "      <th>99495819</th>\n",
       "      <td>Zimbabwe</td>\n",
       "      <td>2016</td>\n",
       "      <td>Spending, total</td>\n",
       "      <td>million PPP (constant 2011 prices)</td>\n",
       "      <td>41.60</td>\n",
       "      <td>Per 100,000 farmers</td>\n",
       "      <td>FTE</td>\n",
       "      <td>6.5</td>\n",
       "      <td>NaN</td>\n",
       "      <td>NaN</td>\n",
       "      <td>NaN</td>\n",
       "      <td>NaN</td>\n",
       "      <td>%</td>\n",
       "      <td>-0.899281</td>\n",
       "      <td>Value US$, 2015 prices</td>\n",
       "      <td>US$</td>\n",
       "      <td>99.8458</td>\n",
       "    </tr>\n",
       "  </tbody>\n",
       "</table>\n",
       "<p>99495820 rows × 17 columns</p>\n",
       "</div>"
      ],
      "text/plain": [
       "              Area  Year                                          Element_x  \\\n",
       "0          Algeria  2009  Share of Value Added (Agriculture, Forestry an...   \n",
       "1          Algeria  2009  Share of Value Added (Agriculture, Forestry an...   \n",
       "2          Algeria  2009  Share of Value Added (Agriculture, Forestry an...   \n",
       "3          Algeria  2009  Share of Value Added (Agriculture, Forestry an...   \n",
       "4          Algeria  2009  Share of Value Added (Agriculture, Forestry an...   \n",
       "...            ...   ...                                                ...   \n",
       "99495815  Zimbabwe  2016                                    Spending, total   \n",
       "99495816  Zimbabwe  2016                                    Spending, total   \n",
       "99495817  Zimbabwe  2016                                    Spending, total   \n",
       "99495818  Zimbabwe  2016                                    Spending, total   \n",
       "99495819  Zimbabwe  2016                                    Spending, total   \n",
       "\n",
       "                                      Unit_x  Value_x            Element_y  \\\n",
       "0                                          %     0.18   Researchers, total   \n",
       "1                                          %     0.18   Researchers, total   \n",
       "2                                          %     0.18   Researchers, total   \n",
       "3                                          %     0.18   Researchers, total   \n",
       "4                                          %     0.18   Researchers, total   \n",
       "...                                      ...      ...                  ...   \n",
       "99495815  million PPP (constant 2011 prices)    41.60  Per 100,000 farmers   \n",
       "99495816  million PPP (constant 2011 prices)    41.60  Per 100,000 farmers   \n",
       "99495817  million PPP (constant 2011 prices)    41.60  Per 100,000 farmers   \n",
       "99495818  million PPP (constant 2011 prices)    41.60  Per 100,000 farmers   \n",
       "99495819  million PPP (constant 2011 prices)    41.60  Per 100,000 farmers   \n",
       "\n",
       "         Unit_y  Value_y        Element_x  Unit_x  Value_x  Element_y Unit_y  \\\n",
       "0           FTE    510.3  Import Quantity  tonnes   2771.0        NaN    NaN   \n",
       "1           FTE    510.3  Import Quantity  tonnes   2771.0        NaN    NaN   \n",
       "2           FTE    510.3  Import Quantity  tonnes   2771.0        NaN    NaN   \n",
       "3           FTE    510.3  Import Quantity  tonnes   2771.0        NaN    NaN   \n",
       "4           FTE    510.3  Import Quantity  tonnes   2771.0        NaN    NaN   \n",
       "...         ...      ...              ...     ...      ...        ...    ...   \n",
       "99495815    FTE      6.5              NaN     NaN      NaN        NaN      %   \n",
       "99495816    FTE      6.5              NaN     NaN      NaN        NaN      %   \n",
       "99495817    FTE      6.5              NaN     NaN      NaN        NaN      %   \n",
       "99495818    FTE      6.5              NaN     NaN      NaN        NaN      %   \n",
       "99495819    FTE      6.5              NaN     NaN      NaN        NaN      %   \n",
       "\n",
       "            Value_y                            Element Unit     Value  \n",
       "0         69.503120  Value Local Currency, 2015 prices  LCU   72.7492  \n",
       "1         69.503120             Value US$, 2015 prices  US$  100.8325  \n",
       "2         69.503120  Value Local Currency, 2015 prices  LCU   77.8007  \n",
       "3         69.503120             Value US$, 2015 prices  US$  107.8340  \n",
       "4         69.503120  Value Local Currency, 2015 prices  LCU   71.0064  \n",
       "...             ...                                ...  ...       ...  \n",
       "99495815  -0.899281             Value US$, 2015 prices  US$  100.5032  \n",
       "99495816  -0.899281  Value Local Currency, 2015 prices  LCU  101.7875  \n",
       "99495817  -0.899281             Value US$, 2015 prices  US$  101.7875  \n",
       "99495818  -0.899281  Value Local Currency, 2015 prices  LCU   99.8458  \n",
       "99495819  -0.899281             Value US$, 2015 prices  US$   99.8458  \n",
       "\n",
       "[99495820 rows x 17 columns]"
      ]
     },
     "execution_count": 2,
     "metadata": {},
     "output_type": "execute_result"
    }
   ],
   "source": [
    "main_dataframe = pd.DataFrame(pd.read_csv(file_list[0], sep=',', encoding='latin-1'),columns=CC)\n",
    "for i in range(1,5):\n",
    "    df = pd.DataFrame(pd.read_csv(file_list[i],sep=',' , encoding='latin-1',low_memory=False), columns=CC)\n",
    "    main_dataframe = pd.merge(left=main_dataframe, right=df , how='left', on= ['Area','Year'])\n",
    "main_dataframe"
   ]
  },
  {
   "cell_type": "code",
   "execution_count": 8,
   "metadata": {},
   "outputs": [
    {
     "ename": "ParserError",
     "evalue": "Error tokenizing data. C error: Calling read(nbytes) on source failed. Try engine='python'.",
     "output_type": "error",
     "traceback": [
      "\u001b[1;31m---------------------------------------------------------------------------\u001b[0m",
      "\u001b[1;31mParserError\u001b[0m                               Traceback (most recent call last)",
      "\u001b[1;32mUntitled-3.ipynb Cell 3'\u001b[0m in \u001b[0;36m<cell line: 1>\u001b[1;34m()\u001b[0m\n\u001b[0;32m      <a href='vscode-notebook-cell:Untitled-3.ipynb?jupyter-notebook#ch0000002untitled?line=0'>1</a>\u001b[0m \u001b[39mfor\u001b[39;00m i \u001b[39min\u001b[39;00m \u001b[39mrange\u001b[39m(\u001b[39m1\u001b[39m,\u001b[39mlen\u001b[39m(file_list)):\n\u001b[1;32m----> <a href='vscode-notebook-cell:Untitled-3.ipynb?jupyter-notebook#ch0000002untitled?line=1'>2</a>\u001b[0m     data \u001b[39m=\u001b[39m pd\u001b[39m.\u001b[39;49mread_csv(file_list[i],sep\u001b[39m=\u001b[39;49m\u001b[39m'\u001b[39;49m\u001b[39m,\u001b[39;49m\u001b[39m'\u001b[39;49m , encoding\u001b[39m=\u001b[39;49m\u001b[39m'\u001b[39;49m\u001b[39mlatin-1\u001b[39;49m\u001b[39m'\u001b[39;49m,low_memory\u001b[39m=\u001b[39;49m\u001b[39mFalse\u001b[39;49;00m)\n\u001b[0;32m      <a href='vscode-notebook-cell:Untitled-3.ipynb?jupyter-notebook#ch0000002untitled?line=2'>3</a>\u001b[0m     df \u001b[39m=\u001b[39m pd\u001b[39m.\u001b[39mDataFrame(data)\n\u001b[0;32m      <a href='vscode-notebook-cell:Untitled-3.ipynb?jupyter-notebook#ch0000002untitled?line=3'>4</a>\u001b[0m     main_dataframe \u001b[39m=\u001b[39m pd\u001b[39m.\u001b[39mmerge(left\u001b[39m=\u001b[39mmain_dataframe, right\u001b[39m=\u001b[39mdf , how\u001b[39m=\u001b[39m\u001b[39m'\u001b[39m\u001b[39mleft\u001b[39m\u001b[39m'\u001b[39m)\n",
      "File \u001b[1;32mc:\\Users\\amarchve\\Anaconda3\\lib\\site-packages\\pandas\\util\\_decorators.py:311\u001b[0m, in \u001b[0;36mdeprecate_nonkeyword_arguments.<locals>.decorate.<locals>.wrapper\u001b[1;34m(*args, **kwargs)\u001b[0m\n\u001b[0;32m    <a href='file:///c%3A/Users/amarchve/Anaconda3/lib/site-packages/pandas/util/_decorators.py?line=304'>305</a>\u001b[0m \u001b[39mif\u001b[39;00m \u001b[39mlen\u001b[39m(args) \u001b[39m>\u001b[39m num_allow_args:\n\u001b[0;32m    <a href='file:///c%3A/Users/amarchve/Anaconda3/lib/site-packages/pandas/util/_decorators.py?line=305'>306</a>\u001b[0m     warnings\u001b[39m.\u001b[39mwarn(\n\u001b[0;32m    <a href='file:///c%3A/Users/amarchve/Anaconda3/lib/site-packages/pandas/util/_decorators.py?line=306'>307</a>\u001b[0m         msg\u001b[39m.\u001b[39mformat(arguments\u001b[39m=\u001b[39marguments),\n\u001b[0;32m    <a href='file:///c%3A/Users/amarchve/Anaconda3/lib/site-packages/pandas/util/_decorators.py?line=307'>308</a>\u001b[0m         \u001b[39mFutureWarning\u001b[39;00m,\n\u001b[0;32m    <a href='file:///c%3A/Users/amarchve/Anaconda3/lib/site-packages/pandas/util/_decorators.py?line=308'>309</a>\u001b[0m         stacklevel\u001b[39m=\u001b[39mstacklevel,\n\u001b[0;32m    <a href='file:///c%3A/Users/amarchve/Anaconda3/lib/site-packages/pandas/util/_decorators.py?line=309'>310</a>\u001b[0m     )\n\u001b[1;32m--> <a href='file:///c%3A/Users/amarchve/Anaconda3/lib/site-packages/pandas/util/_decorators.py?line=310'>311</a>\u001b[0m \u001b[39mreturn\u001b[39;00m func(\u001b[39m*\u001b[39margs, \u001b[39m*\u001b[39m\u001b[39m*\u001b[39mkwargs)\n",
      "File \u001b[1;32mc:\\Users\\amarchve\\Anaconda3\\lib\\site-packages\\pandas\\io\\parsers\\readers.py:680\u001b[0m, in \u001b[0;36mread_csv\u001b[1;34m(filepath_or_buffer, sep, delimiter, header, names, index_col, usecols, squeeze, prefix, mangle_dupe_cols, dtype, engine, converters, true_values, false_values, skipinitialspace, skiprows, skipfooter, nrows, na_values, keep_default_na, na_filter, verbose, skip_blank_lines, parse_dates, infer_datetime_format, keep_date_col, date_parser, dayfirst, cache_dates, iterator, chunksize, compression, thousands, decimal, lineterminator, quotechar, quoting, doublequote, escapechar, comment, encoding, encoding_errors, dialect, error_bad_lines, warn_bad_lines, on_bad_lines, delim_whitespace, low_memory, memory_map, float_precision, storage_options)\u001b[0m\n\u001b[0;32m    <a href='file:///c%3A/Users/amarchve/Anaconda3/lib/site-packages/pandas/io/parsers/readers.py?line=664'>665</a>\u001b[0m kwds_defaults \u001b[39m=\u001b[39m _refine_defaults_read(\n\u001b[0;32m    <a href='file:///c%3A/Users/amarchve/Anaconda3/lib/site-packages/pandas/io/parsers/readers.py?line=665'>666</a>\u001b[0m     dialect,\n\u001b[0;32m    <a href='file:///c%3A/Users/amarchve/Anaconda3/lib/site-packages/pandas/io/parsers/readers.py?line=666'>667</a>\u001b[0m     delimiter,\n\u001b[1;32m   (...)\u001b[0m\n\u001b[0;32m    <a href='file:///c%3A/Users/amarchve/Anaconda3/lib/site-packages/pandas/io/parsers/readers.py?line=675'>676</a>\u001b[0m     defaults\u001b[39m=\u001b[39m{\u001b[39m\"\u001b[39m\u001b[39mdelimiter\u001b[39m\u001b[39m\"\u001b[39m: \u001b[39m\"\u001b[39m\u001b[39m,\u001b[39m\u001b[39m\"\u001b[39m},\n\u001b[0;32m    <a href='file:///c%3A/Users/amarchve/Anaconda3/lib/site-packages/pandas/io/parsers/readers.py?line=676'>677</a>\u001b[0m )\n\u001b[0;32m    <a href='file:///c%3A/Users/amarchve/Anaconda3/lib/site-packages/pandas/io/parsers/readers.py?line=677'>678</a>\u001b[0m kwds\u001b[39m.\u001b[39mupdate(kwds_defaults)\n\u001b[1;32m--> <a href='file:///c%3A/Users/amarchve/Anaconda3/lib/site-packages/pandas/io/parsers/readers.py?line=679'>680</a>\u001b[0m \u001b[39mreturn\u001b[39;00m _read(filepath_or_buffer, kwds)\n",
      "File \u001b[1;32mc:\\Users\\amarchve\\Anaconda3\\lib\\site-packages\\pandas\\io\\parsers\\readers.py:581\u001b[0m, in \u001b[0;36m_read\u001b[1;34m(filepath_or_buffer, kwds)\u001b[0m\n\u001b[0;32m    <a href='file:///c%3A/Users/amarchve/Anaconda3/lib/site-packages/pandas/io/parsers/readers.py?line=577'>578</a>\u001b[0m     \u001b[39mreturn\u001b[39;00m parser\n\u001b[0;32m    <a href='file:///c%3A/Users/amarchve/Anaconda3/lib/site-packages/pandas/io/parsers/readers.py?line=579'>580</a>\u001b[0m \u001b[39mwith\u001b[39;00m parser:\n\u001b[1;32m--> <a href='file:///c%3A/Users/amarchve/Anaconda3/lib/site-packages/pandas/io/parsers/readers.py?line=580'>581</a>\u001b[0m     \u001b[39mreturn\u001b[39;00m parser\u001b[39m.\u001b[39;49mread(nrows)\n",
      "File \u001b[1;32mc:\\Users\\amarchve\\Anaconda3\\lib\\site-packages\\pandas\\io\\parsers\\readers.py:1254\u001b[0m, in \u001b[0;36mTextFileReader.read\u001b[1;34m(self, nrows)\u001b[0m\n\u001b[0;32m   <a href='file:///c%3A/Users/amarchve/Anaconda3/lib/site-packages/pandas/io/parsers/readers.py?line=1251'>1252</a>\u001b[0m nrows \u001b[39m=\u001b[39m validate_integer(\u001b[39m\"\u001b[39m\u001b[39mnrows\u001b[39m\u001b[39m\"\u001b[39m, nrows)\n\u001b[0;32m   <a href='file:///c%3A/Users/amarchve/Anaconda3/lib/site-packages/pandas/io/parsers/readers.py?line=1252'>1253</a>\u001b[0m \u001b[39mtry\u001b[39;00m:\n\u001b[1;32m-> <a href='file:///c%3A/Users/amarchve/Anaconda3/lib/site-packages/pandas/io/parsers/readers.py?line=1253'>1254</a>\u001b[0m     index, columns, col_dict \u001b[39m=\u001b[39m \u001b[39mself\u001b[39;49m\u001b[39m.\u001b[39;49m_engine\u001b[39m.\u001b[39;49mread(nrows)\n\u001b[0;32m   <a href='file:///c%3A/Users/amarchve/Anaconda3/lib/site-packages/pandas/io/parsers/readers.py?line=1254'>1255</a>\u001b[0m \u001b[39mexcept\u001b[39;00m \u001b[39mException\u001b[39;00m:\n\u001b[0;32m   <a href='file:///c%3A/Users/amarchve/Anaconda3/lib/site-packages/pandas/io/parsers/readers.py?line=1255'>1256</a>\u001b[0m     \u001b[39mself\u001b[39m\u001b[39m.\u001b[39mclose()\n",
      "File \u001b[1;32mc:\\Users\\amarchve\\Anaconda3\\lib\\site-packages\\pandas\\io\\parsers\\c_parser_wrapper.py:230\u001b[0m, in \u001b[0;36mCParserWrapper.read\u001b[1;34m(self, nrows)\u001b[0m\n\u001b[0;32m    <a href='file:///c%3A/Users/amarchve/Anaconda3/lib/site-packages/pandas/io/parsers/c_parser_wrapper.py?line=226'>227</a>\u001b[0m         data \u001b[39m=\u001b[39m _concatenate_chunks(chunks)\n\u001b[0;32m    <a href='file:///c%3A/Users/amarchve/Anaconda3/lib/site-packages/pandas/io/parsers/c_parser_wrapper.py?line=228'>229</a>\u001b[0m     \u001b[39melse\u001b[39;00m:\n\u001b[1;32m--> <a href='file:///c%3A/Users/amarchve/Anaconda3/lib/site-packages/pandas/io/parsers/c_parser_wrapper.py?line=229'>230</a>\u001b[0m         data \u001b[39m=\u001b[39m \u001b[39mself\u001b[39;49m\u001b[39m.\u001b[39;49m_reader\u001b[39m.\u001b[39;49mread(nrows)\n\u001b[0;32m    <a href='file:///c%3A/Users/amarchve/Anaconda3/lib/site-packages/pandas/io/parsers/c_parser_wrapper.py?line=230'>231</a>\u001b[0m \u001b[39mexcept\u001b[39;00m \u001b[39mStopIteration\u001b[39;00m:\n\u001b[0;32m    <a href='file:///c%3A/Users/amarchve/Anaconda3/lib/site-packages/pandas/io/parsers/c_parser_wrapper.py?line=231'>232</a>\u001b[0m     \u001b[39mif\u001b[39;00m \u001b[39mself\u001b[39m\u001b[39m.\u001b[39m_first_chunk:\n",
      "File \u001b[1;32mc:\\Users\\amarchve\\Anaconda3\\lib\\site-packages\\pandas\\_libs\\parsers.pyx:787\u001b[0m, in \u001b[0;36mpandas._libs.parsers.TextReader.read\u001b[1;34m()\u001b[0m\n",
      "File \u001b[1;32mc:\\Users\\amarchve\\Anaconda3\\lib\\site-packages\\pandas\\_libs\\parsers.pyx:876\u001b[0m, in \u001b[0;36mpandas._libs.parsers.TextReader._read_rows\u001b[1;34m()\u001b[0m\n",
      "File \u001b[1;32mc:\\Users\\amarchve\\Anaconda3\\lib\\site-packages\\pandas\\_libs\\parsers.pyx:1960\u001b[0m, in \u001b[0;36mpandas._libs.parsers.raise_parser_error\u001b[1;34m()\u001b[0m\n",
      "\u001b[1;31mParserError\u001b[0m: Error tokenizing data. C error: Calling read(nbytes) on source failed. Try engine='python'."
     ]
    }
   ],
   "source": [
    "for i in range(1,len(file_list)):\n",
    "    data = pd.read_csv(file_list[i],sep=',' , encoding='latin-1',low_memory=False)\n",
    "    df = pd.DataFrame(data)\n",
    "    main_dataframe = pd.merge(left=main_dataframe, right=df , how='left')\n",
    "   \n",
    "main_dataframe"
   ]
  },
  {
   "cell_type": "markdown",
   "metadata": {},
   "source": [
    "# Crazy ideas"
   ]
  },
  {
   "cell_type": "markdown",
   "metadata": {},
   "source": [
    "Test run for loop of merge & lambda instead of append.\n",
    "With a creation of a list of all the df, and merging them all together\n"
   ]
  },
  {
   "cell_type": "code",
   "execution_count": null,
   "metadata": {},
   "outputs": [],
   "source": [
    "df_list=[main_dataframe]  \n",
    "for i in range(1,10):\n",
    "     df = pd.DataFrame( pd.read_csv(file_list[i],sep=',' , encoding='latin-1',low_memory=False))\n",
    "     df_list.append(df)\n",
    "merged_df = reduce(lambda l, r: pd.merge(l, r, on='Area' & 'Year', how='inner'), df_list)\n",
    "merged_df"
   ]
  }
 ],
 "metadata": {
  "interpreter": {
   "hash": "db2f77d7771d8a0072cf3f8e7f9965a22a9c65bf4f8ee5135b3d479c9967abaa"
  },
  "kernelspec": {
   "display_name": "Python 3.9.12 ('base')",
   "language": "python",
   "name": "python3"
  },
  "language_info": {
   "codemirror_mode": {
    "name": "ipython",
    "version": 3
   },
   "file_extension": ".py",
   "mimetype": "text/x-python",
   "name": "python",
   "nbconvert_exporter": "python",
   "pygments_lexer": "ipython3",
   "version": "3.9.12"
  },
  "orig_nbformat": 4
 },
 "nbformat": 4,
 "nbformat_minor": 2
}
